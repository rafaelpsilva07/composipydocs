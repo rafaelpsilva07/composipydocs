{
 "cells": [
  {
   "cell_type": "markdown",
   "id": "26066691-444b-4250-b75f-b27cba5c8efd",
   "metadata": {},
   "source": [
    "# Composipy for strength analysis of a laminate"
   ]
  },
  {
   "cell_type": "markdown",
   "id": "76709bf7-547a-42b9-b35a-676e72b3e0c0",
   "metadata": {},
   "source": [
    "In this exemple we will use the exercise 6-7 from *Analysis and Performance of Fiber Composites by B. Agarwal* pg. 244. \n",
    "\n"
   ]
  },
  {
   "cell_type": "code",
   "execution_count": null,
   "id": "0c5046c3",
   "metadata": {},
   "outputs": [],
   "source": [
    "from composipy import Ply, Laminate, Load, Strength"
   ]
  },
  {
   "cell_type": "markdown",
   "id": "8b81f8d3-7e08-474c-bb69-f8331eca385f",
   "metadata": {},
   "source": [
    "Fist, lets consider the following laminate\n",
    "\n",
    "$[45_{ply1}/0_{ply2}/45_{ply1}]$\n",
    "\n",
    "Where $ply_1$ is $3 mm$ thick and $ply_2$ is $6mm$ thick with the following Elastic and strength characteristics\n",
    "\n",
    "- E1 = 19745 MPa\n",
    "- E2 = 1980 MPa\n",
    "- $\\nu_{12}$ = 0.35\n",
    "- G = 700 MPa\n",
    "- $\\sigma_1^T$ = 400 Mpa\n",
    "- $\\sigma_1^C$ = -250 Mpa\n",
    "- $\\sigma_2^T$ = 150 Mpa\n",
    "- $\\sigma_2^C$ = -200 Mpa\n",
    "- $\\tau_{12}$ = 25 Mpa"
   ]
  },
  {
   "cell_type": "markdown",
   "id": "e6938001-49d9-48ff-9bba-f42cc77a6701",
   "metadata": {},
   "source": [
    "### Setting the laminate"
   ]
  },
  {
   "cell_type": "code",
   "execution_count": null,
   "id": "045c3ca2",
   "metadata": {},
   "outputs": [],
   "source": [
    "ply_1 = Ply(19745 , 1980, 0.35, 700, 3, 400, -250, 150, -200, 25,  name='3mm Unidirection Fiber Composite') \n",
    "ply_2 = Ply(19745 , 1980, 0.35, 700, 6, 400, -250, 150, -200, 25, name='6mm Unidirection Fiber Composite')"
   ]
  },
  {
   "cell_type": "markdown",
   "id": "59e5069a-c0b2-4431-9a44-8fea52827ae1",
   "metadata": {},
   "source": [
    "Now, defining the laminate"
   ]
  },
  {
   "cell_type": "code",
   "execution_count": 25,
   "id": "c7dda0e7-4603-4212-8155-d8610116e1fb",
   "metadata": {},
   "outputs": [
    {
     "name": "stdout",
     "output_type": "stream",
     "text": [
      "Ply(6mm Unidirection Carbon Fiber, E1 = 19745, E2 = 1980, \n",
      "            v12 = 0.35, G12 = 700, thickness = 3, \n",
      "            T1 = 400, C1 = -250, T2 = 150, C2 = -200, S = 25) \n",
      " Ply(6mm Unidirection Carbon Fiber, E1 = 19745, E2 = 1980, \n",
      "            v12 = 0.35, G12 = 700, thickness = 6, \n",
      "            T1 = 400, C1 = -250, T2 = 150, C2 = -200, S = 25)\n",
      "==============================================\n",
      "6mm Unidirection Carbon Fiber 45                  /////               \n",
      "6mm Unidirection Carbon Fiber 0                   =====               \n",
      "6mm Unidirection Carbon Fiber 45                  /////               \n",
      "\n"
     ]
    }
   ],
   "source": [
    "layup_1 = [\n",
    "    (45, ply_1),\n",
    "    (0, ply_2),\n",
    "    (45, ply_1)\n",
    "    ]\n",
    "\n",
    "laminate_1 = Laminate(layup_1)\n",
    "\n",
    "\n",
    "print(ply_1,'\\n',ply_2)\n",
    "\n",
    "print('==============================================')\n",
    "\n",
    "print(laminate_1)"
   ]
  },
  {
   "cell_type": "markdown",
   "id": "06316c11-ee2d-447d-8510-df7be558480d",
   "metadata": {},
   "source": [
    "The $ABD'$ matrix can be called by the `ABD_p` atribute"
   ]
  },
  {
   "cell_type": "code",
   "execution_count": 27,
   "id": "f9a43c5c-900e-4fb3-8f45-870f11539e40",
   "metadata": {},
   "outputs": [
    {
     "data": {
      "text/plain": [
       "matrix([[ 7.59007904e-06, -3.56488909e-06, -3.09494584e-06,\n",
       "         -0.00000000e+00, -0.00000000e+00, -0.00000000e+00],\n",
       "        [-3.56488909e-06,  3.43738980e-05, -2.36888731e-05,\n",
       "         -0.00000000e+00, -0.00000000e+00, -0.00000000e+00],\n",
       "        [-3.09494584e-06, -2.36888731e-05,  4.90937552e-05,\n",
       "         -0.00000000e+00, -0.00000000e+00, -0.00000000e+00],\n",
       "        [-0.00000000e+00, -0.00000000e+00, -0.00000000e+00,\n",
       "          1.62021784e-06, -7.58814609e-07, -7.38051735e-07],\n",
       "        [-0.00000000e+00, -0.00000000e+00, -0.00000000e+00,\n",
       "         -7.58814609e-07,  3.01561903e-06, -1.93363381e-06],\n",
       "        [-0.00000000e+00, -0.00000000e+00, -0.00000000e+00,\n",
       "         -7.38051735e-07, -1.93363381e-06,  3.80139988e-06]])"
      ]
     },
     "execution_count": 27,
     "metadata": {},
     "output_type": "execute_result"
    }
   ],
   "source": [
    "laminate_1.ABD_p"
   ]
  },
  {
   "cell_type": "markdown",
   "id": "6dffe213-6c93-4eec-b2ad-81417f4706e6",
   "metadata": {},
   "source": [
    "### Setting the loads"
   ]
  },
  {
   "cell_type": "markdown",
   "id": "259d596c-0733-439a-a8cc-1028d2a790e3",
   "metadata": {},
   "source": [
    "In the exemple, the element is subjected to the following loads\n",
    "\n",
    "- Nx = 1000 N/mm\n",
    "- Ny = 200 N/m\n",
    "- Nxy = 0\n",
    "- Mx = 0\n",
    "- My = 0\n",
    "- Mxy = 0"
   ]
  },
  {
   "cell_type": "markdown",
   "id": "aa6ab6b1-5e76-4c2b-b49b-8fbc4c9a5280",
   "metadata": {},
   "source": [
    "We will input the loads by using the `Load` class."
   ]
  },
  {
   "cell_type": "code",
   "execution_count": 26,
   "id": "9ed84bfd-752d-47da-9b27-ef0381d13ac0",
   "metadata": {},
   "outputs": [
    {
     "data": {
      "text/plain": [
       "Load(Nx = 1000, Ny = 200,  Nxy = 0 \n",
       "                     Mx = 0, My = 0, Mxy = 0)"
      ]
     },
     "execution_count": 26,
     "metadata": {},
     "output_type": "execute_result"
    }
   ],
   "source": [
    "loads_1 = Load(1000,200,0,0,0,0)\n",
    "\n",
    "loads_1"
   ]
  },
  {
   "cell_type": "markdown",
   "id": "e86556c5-2a7a-4bd3-8504-8b3ff6c16c31",
   "metadata": {},
   "source": [
    "### Checking the strength and elastic parameters of the laminate under load"
   ]
  },
  {
   "cell_type": "markdown",
   "id": "f94e1bfc-0b94-4227-b804-74fca0e3fe43",
   "metadata": {},
   "source": [
    "Now we can analyse the strain and strees in the laminate using the `Strength` class."
   ]
  },
  {
   "cell_type": "code",
   "execution_count": 28,
   "id": "698874e2-87fb-407d-8142-136db06c802e",
   "metadata": {},
   "outputs": [],
   "source": [
    "analysis = Strength(laminate_1,loads_1)"
   ]
  },
  {
   "cell_type": "markdown",
   "id": "12723b91-4b1b-42a9-94a9-f39477667eef",
   "metadata": {},
   "source": [
    "Let's see the the mid-plane strain in the load direction (*xy*) by calling the `mid_strain_xy` atribute"
   ]
  },
  {
   "cell_type": "code",
   "execution_count": 29,
   "id": "9a0fa156-0e44-4c6a-9795-acc851d5f812",
   "metadata": {},
   "outputs": [
    {
     "data": {
      "text/plain": [
       "matrix([[ 0.0068771 ],\n",
       "        [ 0.00330989],\n",
       "        [-0.00783272],\n",
       "        [ 0.        ],\n",
       "        [ 0.        ],\n",
       "        [ 0.        ]])"
      ]
     },
     "execution_count": 29,
     "metadata": {},
     "output_type": "execute_result"
    }
   ],
   "source": [
    "analysis.mid_strain_xy"
   ]
  },
  {
   "cell_type": "markdown",
   "id": "4a617dd4-748c-4497-b633-372539cf2f5d",
   "metadata": {},
   "source": [
    "Or, in the laminate coordinates (*12*), by calling `mid_strain_12`."
   ]
  },
  {
   "cell_type": "code",
   "execution_count": 30,
   "id": "abdaaa4e-542e-4775-9540-408a9dd75f1b",
   "metadata": {},
   "outputs": [
    {
     "data": {
      "text/plain": [
       "[matrix([[ 0.00117714],\n",
       "         [ 0.00900986],\n",
       "         [-0.00356721]]),\n",
       " matrix([[ 0.0068771 ],\n",
       "         [ 0.00330989],\n",
       "         [-0.00783272]]),\n",
       " matrix([[ 0.00117714],\n",
       "         [ 0.00900986],\n",
       "         [-0.00356721]])]"
      ]
     },
     "execution_count": 30,
     "metadata": {},
     "output_type": "execute_result"
    }
   ],
   "source": [
    "analysis.mid_strain_12"
   ]
  },
  {
   "cell_type": "markdown",
   "id": "70c67dde-8302-4fc2-877f-e59447235c0b",
   "metadata": {},
   "source": [
    "Just like that, we can get the stress in all plies for both *xy* and *12* directions by calling `stress_xy` or `stress_12`."
   ]
  },
  {
   "cell_type": "code",
   "execution_count": 31,
   "id": "01feb690-c13f-432b-bf5d-82f87be2f461",
   "metadata": {},
   "outputs": [
    {
     "data": {
      "text/plain": [
       "[matrix([[26.86723559],\n",
       "         [21.87314058],\n",
       "         [ 5.48290432]]),\n",
       " matrix([[139.79943108],\n",
       "         [ 11.46019275],\n",
       "         [ -5.48290432]]),\n",
       " matrix([[26.86723559],\n",
       "         [21.87314058],\n",
       "         [ 5.48290432]])]"
      ]
     },
     "execution_count": 31,
     "metadata": {},
     "output_type": "execute_result"
    }
   ],
   "source": [
    "analysis.stress_xy "
   ]
  },
  {
   "cell_type": "code",
   "execution_count": 32,
   "id": "b40c3853-0c4f-486b-8f1d-bc2759c4959c",
   "metadata": {},
   "outputs": [
    {
     "data": {
      "text/plain": [
       "[matrix([[29.8530924 ],\n",
       "         [18.88728376],\n",
       "         [-2.4970475 ]]),\n",
       " matrix([[139.79943108],\n",
       "         [ 11.46019275],\n",
       "         [ -5.48290432]]),\n",
       " matrix([[29.8530924 ],\n",
       "         [18.88728376],\n",
       "         [-2.4970475 ]])]"
      ]
     },
     "execution_count": 32,
     "metadata": {},
     "output_type": "execute_result"
    }
   ],
   "source": [
    "analysis.stress_12"
   ]
  },
  {
   "cell_type": "markdown",
   "id": "b70b5204-b58b-4efa-9ea2-c7c89106ac1a",
   "metadata": {},
   "source": [
    "From the stresses in the laminate coordinates, we can calculate the Tsai-Wu failure index for all plies by calling `TW_i`."
   ]
  },
  {
   "cell_type": "code",
   "execution_count": 33,
   "id": "8727ee5e-52a8-442a-a2da-bff8fb41b157",
   "metadata": {},
   "outputs": [
    {
     "data": {
      "text/plain": [
       "[0.011840177555671384, 0.04129615058665213, 0.011840177555671384]"
      ]
     },
     "execution_count": 33,
     "metadata": {},
     "output_type": "execute_result"
    }
   ],
   "source": [
    "analysis.TW_i"
   ]
  },
  {
   "cell_type": "markdown",
   "id": "ea084f81-2cf8-44ca-b9b4-b94d54ee16ef",
   "metadata": {},
   "source": [
    "Because the Tsai-Wu index is below 1 for all plies, the laminate is still undamaged. "
   ]
  },
  {
   "cell_type": "markdown",
   "id": "286c80eb-8932-41d0-aa68-20f716aba91a",
   "metadata": {},
   "source": [
    "We can discover in what load the first ply will fail based on the Tsai-Wu failure criterion by using the `FPF` parameter."
   ]
  },
  {
   "cell_type": "code",
   "execution_count": 34,
   "id": "4dfbf2d3-9c7c-4086-8c4b-7451d15f0dfa",
   "metadata": {},
   "outputs": [
    {
     "name": "stdout",
     "output_type": "stream",
     "text": [
      "FPF Load: \n",
      " [[2548.05698026]\n",
      " [ 509.61139605]\n",
      " [   0.        ]\n",
      " [   0.        ]\n",
      " [   0.        ]\n",
      " [   0.        ]]\n",
      "Failed Ply(ies): \n",
      " [2]\n",
      "Laminate Tsai-Wu Index in FPF: \n",
      " [0.12933910070551077, 1.0199433489695386, 0.12933910070551077]\n",
      "Strength Ratio for FPF: \n",
      " 2.573537550058799\n"
     ]
    }
   ],
   "source": [
    "analysis.FPF"
   ]
  },
  {
   "cell_type": "markdown",
   "id": "6332ef3b-ab64-4719-bdb6-19eb533d0d58",
   "metadata": {},
   "source": [
    "By this, we now know that the second ply will fail under $Nx = 2548.06 N/mm; Ny=509.61N/mm$ and that the Strenth Ratio for the FPF is $2.57$."
   ]
  }
 ],
 "metadata": {
  "kernelspec": {
   "display_name": "Python 3 (ipykernel)",
   "language": "python",
   "name": "python3"
  },
  "language_info": {
   "codemirror_mode": {
    "name": "ipython",
    "version": 3
   },
   "file_extension": ".py",
   "mimetype": "text/x-python",
   "name": "python",
   "nbconvert_exporter": "python",
   "pygments_lexer": "ipython3",
   "version": "3.9.7"
  }
 },
 "nbformat": 4,
 "nbformat_minor": 5
}
